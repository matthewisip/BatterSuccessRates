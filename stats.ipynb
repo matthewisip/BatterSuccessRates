{
 "cells": [
  {
   "cell_type": "markdown",
   "metadata": {},
   "source": [
    "Imports"
   ]
  },
  {
   "cell_type": "code",
   "execution_count": 3,
   "metadata": {},
   "outputs": [],
   "source": [
    "import pandas as pd\n",
    "from pybaseball import statcast"
   ]
  },
  {
   "cell_type": "markdown",
   "metadata": {},
   "source": [
    "Default Variables"
   ]
  },
  {
   "cell_type": "code",
   "execution_count": 4,
   "metadata": {},
   "outputs": [],
   "source": [
    "start_date = '2023-04-01'\n",
    "end_date = '2023-09-30'\n",
    "minPA = 900\n",
    "minIP = 1150"
   ]
  },
  {
   "cell_type": "markdown",
   "metadata": {},
   "source": [
    "Run query to grab Data"
   ]
  },
  {
   "cell_type": "code",
   "execution_count": null,
   "metadata": {},
   "outputs": [
    {
     "name": "stderr",
     "output_type": "stream",
     "text": [
      "C:\\Users\\matho\\AppData\\Local\\Packages\\PythonSoftwareFoundation.Python.3.10_qbz5n2kfra8p0\\LocalCache\\local-packages\\Python310\\site-packages\\pybaseball\\datahelpers\\postprocessing.py:59: FutureWarning: errors='ignore' is deprecated and will raise in a future version. Use to_datetime without passing `errors` and catch exceptions explicitly instead\n",
      "  data_copy[column] = data_copy[column].apply(pd.to_datetime, errors='ignore', format=date_format)\n",
      "C:\\Users\\matho\\AppData\\Local\\Packages\\PythonSoftwareFoundation.Python.3.10_qbz5n2kfra8p0\\LocalCache\\local-packages\\Python310\\site-packages\\pybaseball\\datahelpers\\postprocessing.py:59: FutureWarning: errors='ignore' is deprecated and will raise in a future version. Use to_datetime without passing `errors` and catch exceptions explicitly instead\n",
      "  data_copy[column] = data_copy[column].apply(pd.to_datetime, errors='ignore', format=date_format)\n",
      "C:\\Users\\matho\\AppData\\Local\\Packages\\PythonSoftwareFoundation.Python.3.10_qbz5n2kfra8p0\\LocalCache\\local-packages\\Python310\\site-packages\\pybaseball\\datahelpers\\postprocessing.py:59: FutureWarning: errors='ignore' is deprecated and will raise in a future version. Use to_datetime without passing `errors` and catch exceptions explicitly instead\n",
      "  data_copy[column] = data_copy[column].apply(pd.to_datetime, errors='ignore', format=date_format)\n"
     ]
    }
   ],
   "source": [
    "data = statcast(start_dt=start_date, end_dt=end_date)\n",
    "selected_columns = [\n",
    "    'pitch_type', 'release_speed', 'batter', 'events', \n",
    "    'plate_x', 'plate_z', 'description', 'game_date', 'inning', 'pitcher',\n",
    "    'balls', 'strikes'\n",
    "]\n",
    "data = data[selected_columns]\n",
    "\n",
    "# Group by batter for PA and pitcher for IP\n",
    "pa_counts = data.groupby('batter').size().reset_index(name='PA')\n",
    "ip_counts = data.groupby('pitcher')['inning'].nunique().reset_index(name='IP')\n",
    "# Merge PA and IP counts back to the main dataset\n",
    "data = data.merge(pa_counts, on='batter', how='left')\n",
    "data = data.merge(ip_counts, on='pitcher', how='left')\n",
    "# Filter data by minPA and minIPp\n",
    "data = data[(data['PA'] >= minPA) & (data['IP'] >= minIP)]"
   ]
  },
  {
   "cell_type": "code",
   "execution_count": 4,
   "metadata": {},
   "outputs": [],
   "source": [
    "# Define success events for analysis\n",
    "success_events = ['single', 'double', 'triple', 'home_run', 'walk']\n",
    "data['success'] = data['events'].isin(success_events).astype(int)"
   ]
  },
  {
   "cell_type": "markdown",
   "metadata": {},
   "source": [
    "Success Calculation Functions"
   ]
  },
  {
   "cell_type": "code",
   "execution_count": 5,
   "metadata": {},
   "outputs": [],
   "source": [
    "# Function to analyze scenarios based on count\n",
    "def analyze_scenario(balls, strikes):\n",
    "    scenario_data = data[(data['balls'] == balls) & (data['strikes'] == strikes)]\n",
    "    if scenario_data.empty:\n",
    "        print(f\"No data available for count {balls}-{strikes}.\")\n",
    "        return\n",
    "\n",
    "    # Group by pitch type\n",
    "    analysis = scenario_data.groupby('pitch_type').agg(\n",
    "        total_pitches=('pitch_type', 'size'),\n",
    "        successes=('success', 'sum')\n",
    "    ).reset_index()\n",
    "\n",
    "    # Calculate success rates\n",
    "    analysis['success_rate'] = analysis['successes'] / analysis['total_pitches']\n",
    "\n",
    "    print(f\"Analysis for count {balls}-{strikes}:\")\n",
    "    print(analysis)"
   ]
  },
  {
   "cell_type": "code",
   "execution_count": 7,
   "metadata": {},
   "outputs": [],
   "source": [
    "# Function to analyze success rate for a specific pitch sequence\n",
    "def analyze_pitch_sequence(sequence):\n",
    "    sequence_length = len(sequence)\n",
    "\n",
    "    # Identify rows with the given pitch sequence using a custom approach\n",
    "    data['sequence_match'] = data['pitch_type'].shift(0).eq(sequence[0])\n",
    "    for i in range(1, sequence_length):\n",
    "        data['sequence_match'] &= data['pitch_type'].shift(-i).eq(sequence[i])\n",
    "\n",
    "    # Filter data for matching sequences\n",
    "    sequence_data = data[data['sequence_match']]\n",
    "\n",
    "    if sequence_data.empty:\n",
    "        print(f\"No data available for pitch sequence {sequence}.\")\n",
    "        return\n",
    "\n",
    "    # Group by final pitch type in the sequence\n",
    "    analysis = sequence_data.groupby('pitch_type').agg(\n",
    "        total_pitches=('pitch_type', 'size'),\n",
    "        successes=('success', 'sum')\n",
    "    ).reset_index()\n",
    "\n",
    "    # Calculate success rates\n",
    "    analysis['success_rate'] = analysis['successes'] / analysis['total_pitches']\n",
    "\n",
    "    print(f\"Analysis for pitch sequence {sequence}:\")\n",
    "    print(analysis)"
   ]
  },
  {
   "cell_type": "code",
   "execution_count": null,
   "metadata": {},
   "outputs": [],
   "source": [
    "def analyze_scenario_and_sequence(balls, strikes, sequence):\n",
    "    # Filter by count\n",
    "    scenario_data = data[(data['balls'] == balls) & (data['strikes'] == strikes)]\n",
    "    if scenario_data.empty:\n",
    "        print(f\"No data available for count {balls}-{strikes}.\")\n",
    "        return\n",
    "\n",
    "    # Identify rows with the given pitch sequence\n",
    "    sequence_length = len(sequence)\n",
    "    scenario_data['sequence_match'] = False\n",
    "\n",
    "    for idx in range(len(scenario_data) - sequence_length + 1):\n",
    "        # Check if the sequence matches\n",
    "        if list(scenario_data['pitch_type'].iloc[idx:idx + sequence_length]) == sequence:\n",
    "            scenario_data.iloc[idx + sequence_length - 1, scenario_data.columns.get_loc('sequence_match')] = True\n",
    "\n",
    "    # Filter data for matching sequences\n",
    "    sequence_data = scenario_data[scenario_data['sequence_match']]\n",
    "\n",
    "    if sequence_data.empty:\n",
    "        print(f\"No data available for pitch sequence {sequence} at count {balls}-{strikes}.\")\n",
    "        return\n",
    "\n",
    "    # Group by final pitch type in the sequence\n",
    "    analysis = sequence_data.groupby('pitch_type').agg(\n",
    "        total_pitches=('pitch_type', 'size'),\n",
    "        successes=('success', 'sum')\n",
    "    ).reset_index()\n",
    "\n",
    "    # Calculate success rates\n",
    "    analysis['success_rate'] = analysis['successes'] / analysis['total_pitches']\n",
    "\n",
    "    print(f\"Analysis for pitch sequence {sequence} at count {balls}-{strikes}:\")\n",
    "    print(analysis)"
   ]
  },
  {
   "cell_type": "markdown",
   "metadata": {},
   "source": [
    "Generates Default Data CSV"
   ]
  },
  {
   "cell_type": "code",
   "execution_count": null,
   "metadata": {},
   "outputs": [],
   "source": [
    "import pandas as pd\n",
    "from pybaseball import statcast\n",
    "\n",
    "def create_filtered_mlb_csv(output_csv='mlb_2024_filtered_data.csv'):\n",
    "    # Define date range for the last MLB season\n",
    "    start_date = '2024-04-01'\n",
    "    end_date = '2024-10-01'\n",
    "\n",
    "    print(\"Fetching MLB data for the 2024 season...\")\n",
    "    data = statcast(start_dt=start_date, end_dt=end_date)\n",
    "    print(f\"Data fetched. Shape: {data.shape}\")\n",
    "\n",
    "    # Select relevant columns\n",
    "    selected_columns = [\n",
    "        'pitch_type', 'release_speed', 'batter', 'events', \n",
    "        'plate_x', 'plate_z', 'description', 'game_date', 'inning', 'pitcher',\n",
    "        'balls', 'strikes'\n",
    "    ]\n",
    "    data = data[selected_columns]\n",
    "    print(f\"Data after selecting relevant columns. Shape: {data.shape}\")\n",
    "\n",
    "    # Filter by pitch types\n",
    "    valid_pitch_types = ['FB', 'CH', 'SL', 'CB', 'SI', 'CU']\n",
    "    data = data[data['pitch_type'].isin(valid_pitch_types)]\n",
    "    print(f\"Data after filtering by pitch types. Shape: {data.shape}\")\n",
    "\n",
    "    # Calculate total innings pitched (IP) for each pitcher\n",
    "    print(\"Calculating total innings pitched (IP) for each pitcher...\")\n",
    "    data['inning'] = pd.to_numeric(data['inning'], errors='coerce')  # Ensure 'inning' is numeric\n",
    "    ip_totals = data.groupby('pitcher')['inning'].sum().reset_index(name='IP')\n",
    "    print(f\"Total innings pitched calculated. Example:\\n{ip_totals.head()}\")\n",
    "\n",
    "    # Merge IP totals back into the main dataset\n",
    "    data = data.merge(ip_totals, on='pitcher', how='left')\n",
    "    print(f\"Data after adding total IP. Shape: {data.shape}\")\n",
    "\n",
    "    # Calculate plate appearances (PA) for batters\n",
    "    pa_counts = data.groupby('batter').size().reset_index(name='PA')\n",
    "    batters = data.merge(pa_counts, on='batter', how='left')\n",
    "    print(f\"Total batters with PA calculated. Shape: {batters.shape}\")\n",
    "\n",
    "    # Determine the 80th percentile thresholds\n",
    "    pa_80th_percentile = batters['PA'].quantile(0.8)\n",
    "    ip_80th_percentile = data['IP'].quantile(0.8)\n",
    "    print(f\"80th Percentile for PA: {pa_80th_percentile}, IP: {ip_80th_percentile}\")\n",
    "\n",
    "    # Filter top 80th percentile for batters and pitchers\n",
    "    top_batters = batters[batters['PA'] >= pa_80th_percentile]\n",
    "    top_pitchers = data[data['IP'] >= ip_80th_percentile]\n",
    "    print(f\"Top 80th percentile batters: {len(top_batters)}, pitchers: {len(top_pitchers)}\")\n",
    "\n",
    "    # Combine filtered batter and pitcher data\n",
    "    filtered_data = pd.concat([top_batters, top_pitchers]).drop_duplicates()\n",
    "    print(f\"Combined rows after filtering: {len(filtered_data)}\")\n",
    "\n",
    "    # Save the filtered data to a CSV\n",
    "    filtered_data.to_csv(output_csv, index=False)\n",
    "    print(f\"Filtered data saved to {output_csv}\")\n",
    "\n",
    "# Call the function to create the CSV\n",
    "create_filtered_mlb_csv(output_csv='mlb_2024_filtered_data.csv')\n"
   ]
  },
  {
   "cell_type": "markdown",
   "metadata": {},
   "source": [
    "Test Cases"
   ]
  },
  {
   "cell_type": "code",
   "execution_count": null,
   "metadata": {},
   "outputs": [],
   "source": [
    "# Example: Analyze a pitch sequence ['FF', 'CH']\n",
    "analyze_pitch_sequence(['FF', 'CH'])"
   ]
  },
  {
   "cell_type": "code",
   "execution_count": null,
   "metadata": {},
   "outputs": [],
   "source": [
    "# Example: Analyze 3-2 count\n",
    "analyze_scenario(3, 2)"
   ]
  },
  {
   "cell_type": "code",
   "execution_count": null,
   "metadata": {},
   "outputs": [],
   "source": [
    "# Example: Analyze 3-2 count with a pitch sequence ['FF', 'CH']\n",
    "analyze_scenario_and_sequence(3, 2, ['FF', 'CH'])"
   ]
  }
 ],
 "metadata": {
  "kernelspec": {
   "display_name": "Python 3",
   "language": "python",
   "name": "python3"
  },
  "language_info": {
   "codemirror_mode": {
    "name": "ipython",
    "version": 3
   },
   "file_extension": ".py",
   "mimetype": "text/x-python",
   "name": "python",
   "nbconvert_exporter": "python",
   "pygments_lexer": "ipython3",
   "version": "3.10.11"
  }
 },
 "nbformat": 4,
 "nbformat_minor": 2
}
